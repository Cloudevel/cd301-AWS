{
 "cells": [
  {
   "cell_type": "markdown",
   "metadata": {},
   "source": [
    "![cloudevel](imagenes/cloudevel-fondo-twitter.png)"
   ]
  },
  {
   "cell_type": "markdown",
   "metadata": {},
   "source": [
    "## Creación de un nuevo usuario mediante la IAM de AWS.\n",
    "\n",
    "### Creación de usuario, y credenciales.\n",
    "\n",
    "Acceder al panel de IAM localizado en https://console.aws.amazon.com/iam\n",
    "\n",
    "A partir se puede crear un usuario y un grupo con diversas al que se le asignará dos credenciales:\n",
    "\n",
    "* *Access key ID*\n",
    "* *Secret access key*\n",
    "\n",
    "Es recomendable descargar el archivo CSV con las credenciales para el usuario.\n",
    " "
   ]
  },
  {
   "cell_type": "markdown",
   "metadata": {},
   "source": [
    "### Archivos de configuración.\n",
    "\n",
    "#### El archivo *~/.aws/credentials*\n",
    "El archivo localizado  en *~/.aws/credentials* debe de incluir las credenciales generadas.\n",
    "\n",
    "El archivo contendría algo similar a esto:\n",
    "\n",
    "```\n",
    "[default]\n",
    "aws_access_key_id= <ACCESS_KEY_ID>\n",
    "aws_secret_access_key= < SECRET_ACCESS_KEY>\n",
    "```\n",
    "Para su comodidad, puede editar el archivo [*credentials*](credentials) y ejecutar las celdas siguientes."
   ]
  },
  {
   "cell_type": "code",
   "execution_count": null,
   "metadata": {},
   "outputs": [],
   "source": [
    "mkdir ~/.aws"
   ]
  },
  {
   "cell_type": "code",
   "execution_count": null,
   "metadata": {},
   "outputs": [],
   "source": [
    "cp credentials ~/.aws "
   ]
  },
  {
   "cell_type": "code",
   "execution_count": null,
   "metadata": {},
   "outputs": [],
   "source": [
    "cat ~/.aws/credentials"
   ]
  },
  {
   "cell_type": "markdown",
   "metadata": {},
   "source": [
    "#### El archivo *~/.aws/configuration*.\n",
    "\n",
    "Este archivo contiene la configuración básica de los servicios de AWS con datos tales como:\n",
    "\n",
    "* La región geográfica a la que accederá el usuario.\n",
    "* El formato de salida por defecto.\n",
    "\n",
    "Y contedría algo similar a esto:\n",
    "\n",
    "```\n",
    "[default]\n",
    "region=<REGION>\n",
    "output=json\n",
    "```\n",
    "Para su comodidad, puede editar el archivo [configuration](configuration) y ejecutar las celdas siguientes."
   ]
  },
  {
   "cell_type": "code",
   "execution_count": null,
   "metadata": {},
   "outputs": [],
   "source": [
    "cp configuration ~/.aws"
   ]
  },
  {
   "cell_type": "code",
   "execution_count": null,
   "metadata": {},
   "outputs": [],
   "source": [
    "cat ~/.aws/configuration"
   ]
  },
  {
   "cell_type": "markdown",
   "metadata": {},
   "source": [
    "## LA CLI de AWS.\n",
    "\n",
    "Todos los servicios de AWS corresponden a una API REST con una serie de \"endpoints\", los cuales permirten interacxtual ya se a mediante una interfaz web, el SDK de AWS ([en diversos lenguajes de programación](https://aws.amazon.com/es/tools/)) y mediante una interfaz de línea de comando ([AWS CLI](https://aws.amazon.com/es/cli))."
   ]
  },
  {
   "cell_type": "code",
   "execution_count": null,
   "metadata": {},
   "outputs": [],
   "source": [
    "pip install awscli"
   ]
  },
  {
   "cell_type": "markdown",
   "metadata": {},
   "source": [
    "### El shell de AWS.\n",
    "\n",
    "Adcem{as de la CLI de AWS, es posible utilizar un shell interactivo para AWS que permite el autocompletado de comandos. Para instalarlo es necesario ejecutar lo siguiente: "
   ]
  },
  {
   "cell_type": "code",
   "execution_count": null,
   "metadata": {},
   "outputs": [],
   "source": [
    "pip install aws-shell"
   ]
  },
  {
   "cell_type": "markdown",
   "metadata": {},
   "source": [
    "## Creación de pares ssh\n",
    "\n",
    "* Es necesario acceder mediante la terminal de la VM con el usuario *oi* y la contraseña *0p3n5t4ck*.\n",
    "\n",
    "* Ejecutar el siguiente comando.\n",
    "\n",
    "``` bash\n",
    "ssh-keygen \n",
    "\n",
    "```\n",
    "* No es necesario ingresar una passphrase.\n",
    "* Indicar que las llaves estarán en *~/.ssh/id_rsa*"
   ]
  },
  {
   "cell_type": "code",
   "execution_count": null,
   "metadata": {},
   "outputs": [],
   "source": [
    "ls ~/.ssh"
   ]
  },
  {
   "cell_type": "markdown",
   "metadata": {},
   "source": [
    "Estas claves serán añadidas al usuario creado con IAM."
   ]
  },
  {
   "cell_type": "markdown",
   "metadata": {},
   "source": [
    "<p style=\"text-align: center\"><a rel=\"license\" href=\"http://creativecommons.org/licenses/by/4.0/\"><img alt=\"Licencia Creative Commons\" style=\"border-width:0\" src=\"https://i.creativecommons.org/l/by/4.0/80x15.png\" /></a><br />Esta obra está bajo una <a rel=\"license\" href=\"http://creativecommons.org/licenses/by/4.0/\">Licencia Creative Commons Atribución 4.0 Internacional</a>.</p>\n",
    "<p style=\"text-align: center\">&copy; José Luis Chiquete Valdivieso. 2018.</p>"
   ]
  }
 ],
 "metadata": {
  "kernelspec": {
   "display_name": "Bash",
   "language": "bash",
   "name": "bash"
  },
  "language_info": {
   "codemirror_mode": "shell",
   "file_extension": ".sh",
   "mimetype": "text/x-sh",
   "name": "bash"
  }
 },
 "nbformat": 4,
 "nbformat_minor": 2
}
